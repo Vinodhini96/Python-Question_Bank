{
  "cells": [
    {
      "cell_type": "markdown",
      "metadata": {
        "id": "view-in-github",
        "colab_type": "text"
      },
      "source": [
        "<a href=\"https://colab.research.google.com/github/Vinodhini96/Python-Question_Bank/blob/main/Python_Question_Bank_Basic_Level.ipynb\" target=\"_parent\"><img src=\"https://colab.research.google.com/assets/colab-badge.svg\" alt=\"Open In Colab\"/></a>"
      ]
    },
    {
      "cell_type": "markdown",
      "id": "0f7bf331",
      "metadata": {
        "id": "0f7bf331"
      },
      "source": [
        "# <div class=\"alert alert-danger\">Python - Question Bank</div>\n",
        "\n",
        "<div class=\"alert alert-danger\">\n",
        "by\n",
        "    \n",
        "Vinodhini Rajamanickam\n",
        "    \n",
        "Data Scientist\n",
        "    \n",
        "Batch D50"
      ]
    },
    {
      "cell_type": "markdown",
      "id": "fa00565f",
      "metadata": {
        "id": "fa00565f"
      },
      "source": [
        "![hello](https://drive.google.com/uc?export=view&id=1_OfLFU4CU6MlPd2rZXQ12JBMGcxDhiY2)\n",
        "\n"
      ]
    },
    {
      "cell_type": "markdown",
      "id": "4a6caf79",
      "metadata": {
        "id": "4a6caf79"
      },
      "source": [
        "<div class=\"alert alert-success\"><alert-heading><h2>what is Python?</h2>\n",
        "    \n",
        "Python is like a friendly and clever computer language. You can use it to tell computers what to do in a way that's easy to understand. It's simple, so whether you're just starting or a pro, it's a great pick for making computers do cool things! 🐍✨"
      ]
    },
    {
      "cell_type": "markdown",
      "id": "a1a3bf3b",
      "metadata": {
        "id": "a1a3bf3b"
      },
      "source": [
        "![51cd280b738b1b54ebba57348fe8c109-2.jpg](https://drive.google.com/uc?export=view&id=1CSdPJTbeOvdf5t3NBdtZvIaKSpxrJtuw)\n",
        "\n"
      ]
    },
    {
      "cell_type": "markdown",
      "id": "0b8195c4",
      "metadata": {
        "id": "0b8195c4"
      },
      "source": [
        "<div class=\"alert alert-success\"><alert-heading><h2>Why Python? Because It's Awesome!</h2>\n",
        "\n",
        "You might be wondering, 'Why Python?' Well, that's an easy one! Python is like a key that unlocks endless possibilities in the world of coding. It's used in web development, data science, artificial intelligence, and so much more. Learning Python is like learning a universal language of technology."
      ]
    },
    {
      "cell_type": "markdown",
      "id": "2fb85f6f",
      "metadata": {
        "id": "2fb85f6f"
      },
      "source": [
        "![1%20%281%29.png](https://drive.google.com/uc?export=view&id=1sHpdXtuhR9md4wHr1lBK6xRtbXoeZVNU)\n"
      ]
    },
    {
      "cell_type": "markdown",
      "id": "db7f011d",
      "metadata": {
        "id": "db7f011d"
      },
      "source": [
        "<div class=\"alert alert-success\">\n",
        "So, when you think of Python, think of your friendly coding buddy, Py, ready to help you explore the exciting world of programming!"
      ]
    },
    {
      "cell_type": "markdown",
      "id": "2b83adf7",
      "metadata": {
        "id": "2b83adf7"
      },
      "source": [
        "<div class=\"alert alert-success\">\n",
        "    Today, we're starting an exciting journey through the world of Python programming. We'll explore this fascinating language and tackle some interesting questions. So, get ready for an adventure!"
      ]
    },
    {
      "cell_type": "markdown",
      "id": "ef027a64",
      "metadata": {
        "id": "ef027a64"
      },
      "source": [
        "<div class=\"alert alert-danger\">.....</div>"
      ]
    },
    {
      "cell_type": "markdown",
      "id": "1cb86779",
      "metadata": {
        "id": "1cb86779"
      },
      "source": [
        "# <div class=\"alert alert-success\">Stop 1: Python Basics - Our Starting Point</div>\n",
        "\n",
        "<div class=\"alert alert-success\">As we enter the Python jungle, our first stop is the 'Python Basics' trail. Here, we'll learn the foundations of Python that every explorer should master.\n",
        "\n",
        "Let me introduce you to a few questions:"
      ]
    },
    {
      "cell_type": "markdown",
      "id": "535cd601",
      "metadata": {
        "id": "535cd601"
      },
      "source": [
        "![R.png](https://drive.google.com/uc?export=view&id=18gM4DTwGEtw3mxVtaZlLVD50QGUhady3)\n"
      ]
    },
    {
      "cell_type": "markdown",
      "id": "e1057f2e",
      "metadata": {
        "id": "e1057f2e"
      },
      "source": [
        "## <div class=\"alert alert-info\">Q. 1 How do you declare a variable in Python?"
      ]
    },
    {
      "cell_type": "markdown",
      "id": "1a03fcfb",
      "metadata": {
        "id": "1a03fcfb"
      },
      "source": [
        "![b89d3c6f661342c5ca1099a15afe6838-2.png](https://drive.google.com/uc?export=view&id=1PGL9-PZYKOJSgYll5-4iGTT9UfaE6PSB)"
      ]
    },
    {
      "cell_type": "markdown",
      "id": "ae97642a",
      "metadata": {
        "id": "ae97642a"
      },
      "source": [
        "<div class=\"alert alert-info\">In Python, you declare a variable by simply assigning a value to it. Unlike some other programming languages, you don't need to specify the variable's data type explicitly. Python infers the data type based on the value assigned to the variable.\n",
        "\n",
        "<div class=\"alert alert-info\">    \n",
        "syntax:\n",
        "\n",
        "variable_name = value\n"
      ]
    },
    {
      "cell_type": "code",
      "execution_count": null,
      "id": "f496023c",
      "metadata": {
        "id": "f496023c"
      },
      "outputs": [],
      "source": [
        "# Integer variable\n",
        "age = 30\n",
        "\n",
        "# String variable\n",
        "name = \"Alice\"\n",
        "\n",
        "# Floating-point variable\n",
        "salary = 50000.50\n",
        "\n",
        "# Boolean variable\n",
        "is_student = True\n",
        "\n",
        "# List variable\n",
        "fruits = [\"apple\", \"banana\", \"cherry\"]\n",
        "\n",
        "# Dictionary variable\n",
        "person = {\"name\": \"Bob\", \"age\": 25}\n",
        "\n",
        "# Tuple variable\n",
        "coordinates = (3.5, 2.0)\n"
      ]
    },
    {
      "cell_type": "markdown",
      "id": "2c5b26ce",
      "metadata": {
        "id": "2c5b26ce"
      },
      "source": [
        "<div class=\"alert alert-info\">In these examples, Python automatically determines the data type of each variable based on the assigned value. This dynamic typing is one of the features that make Python flexible and easy to work with."
      ]
    },
    {
      "cell_type": "markdown",
      "id": "b3c84b01",
      "metadata": {
        "id": "b3c84b01"
      },
      "source": [
        "## <div class=\"alert alert-warning\">Q 2. Explain the difference between '==' and 'is' operators."
      ]
    },
    {
      "cell_type": "markdown",
      "id": "477cf7cf",
      "metadata": {
        "id": "477cf7cf"
      },
      "source": [
        "<div class=\"alert alert-warning\"><alert-heading><h4>The '==' Operator (Equality):</h4>\n",
        "\n",
        "Think of the '==' operator as a scale. When you use '==' to compare two things, it's like putting them on the scale and checking if their weights are equal. If they are, the '==' operator returns `True`; if not, it returns `False`. This operator checks if the values of the two objects are the same."
      ]
    },
    {
      "cell_type": "code",
      "execution_count": null,
      "id": "fa4fe169",
      "metadata": {
        "id": "fa4fe169",
        "outputId": "fff5b01e-b4b5-42b7-b594-efd0715f7765"
      },
      "outputs": [
        {
          "name": "stdout",
          "output_type": "stream",
          "text": [
            "True\n"
          ]
        }
      ],
      "source": [
        "a = [1, 2, 3]\n",
        "b = [1, 2, 3]\n",
        "result = a == b  # True, because the values of a and b are the same.\n",
        "\n",
        "print(result)"
      ]
    },
    {
      "cell_type": "markdown",
      "id": "2d0fd79f",
      "metadata": {
        "id": "2d0fd79f"
      },
      "source": [
        "<div class=\"alert alert-warning\"><alert-heading><h4>The 'is' Operator (Identity):</h4>\n",
        "\n",
        "Now, imagine the 'is' operator as a name tag. When you use 'is' to compare two things, you're checking if they are the same object, like having the same name tag. If they are the same object, 'is' returns `True`; if not, it returns `False`. This operator checks if two variables reference the exact same object in memory."
      ]
    },
    {
      "cell_type": "code",
      "execution_count": null,
      "id": "4cea870e",
      "metadata": {
        "id": "4cea870e",
        "outputId": "6b6a8037-232d-4d60-e014-04f66260e761"
      },
      "outputs": [
        {
          "name": "stdout",
          "output_type": "stream",
          "text": [
            "True\n"
          ]
        }
      ],
      "source": [
        "x = [1, 2, 3]\n",
        "y = x\n",
        "result = x is y  # True, because x and y reference the same object.\n",
        "\n",
        "print(result)"
      ]
    },
    {
      "cell_type": "markdown",
      "id": "1d8bae8a",
      "metadata": {
        "id": "1d8bae8a"
      },
      "source": [
        "<div class=\"alert alert-warning\">In short, '==' compares the content or values of objects, while 'is' compares the identity or memory address of objects. Think of '==' as comparing what's inside (like the scale) and 'is' as checking if they're the same thing (like the name tag)."
      ]
    },
    {
      "cell_type": "markdown",
      "id": "e61e1864",
      "metadata": {
        "id": "e61e1864"
      },
      "source": [
        "## <div class=\"alert alert-info\">Q3. Write a Python code to check if a number is even or odd.\n",
        "                                                      "
      ]
    },
    {
      "cell_type": "markdown",
      "id": "40224614",
      "metadata": {
        "id": "40224614"
      },
      "source": [
        "<div class=\"alert alert-info\">You can check if a number is even or odd in Python using the modulo operator %.\n",
        "    \n",
        "    Example:"
      ]
    },
    {
      "cell_type": "code",
      "execution_count": null,
      "id": "f376e6de",
      "metadata": {
        "id": "f376e6de",
        "outputId": "48893ed7-79bd-4269-e6ae-fac1d395c86b"
      },
      "outputs": [
        {
          "name": "stdout",
          "output_type": "stream",
          "text": [
            "Enter a number: 5\n",
            "5 is odd.\n"
          ]
        }
      ],
      "source": [
        "# Input a number from the user\n",
        "num = int(input(\"Enter a number: \"))\n",
        "\n",
        "# Check if the number is even or odd\n",
        "if num % 2 == 0:\n",
        "    print(num, \"is even.\")\n",
        "else:\n",
        "    print(num, \"is odd.\")\n"
      ]
    },
    {
      "cell_type": "markdown",
      "id": "3597a1f5",
      "metadata": {
        "id": "3597a1f5"
      },
      "source": [
        "## <div class=\"alert alert-warning\">Q4. Define a function in Python."
      ]
    },
    {
      "cell_type": "markdown",
      "id": "294f59ba",
      "metadata": {
        "id": "294f59ba"
      },
      "source": [
        "![e4e2767fcb048b50eef3f86d8d616fa2-2.jpg](https://drive.google.com/uc?export=view&id=1EvyUFSKmQ9cWKwWzXa0r0XBaIqeHN1sK)\n",
        "\n"
      ]
    },
    {
      "cell_type": "markdown",
      "id": "e18884ac",
      "metadata": {
        "id": "e18884ac"
      },
      "source": [
        "<div class=\"alert alert-warning\">a function is a reusable block of code that performs a specific task or set of tasks.it is like a mini-program that performs a specific task when you ask it to. You can use functions to avoid writing the same code over and over again and to make your code easier to understand.\n",
        "    \n",
        "Functions are defined using the `def` keyword, followed by a function name and a set of parentheses that may contain input parameters."
      ]
    },
    {
      "cell_type": "markdown",
      "id": "28a58a90",
      "metadata": {
        "id": "28a58a90"
      },
      "source": [
        "<div class=\"alert alert-warning\">\n",
        "\n",
        "syntax:\n",
        "    \n",
        "def function_name(parameters):\n",
        "    \n",
        "    # Function body\n",
        "    \n",
        "    # This is where you write the code that the function will execute\n",
        "    \n",
        "    # You can include statements, calculations, and more here\n",
        "    \n",
        "    # The function may also return a value using the 'return' statement\n"
      ]
    },
    {
      "cell_type": "code",
      "execution_count": null,
      "id": "d89328fa",
      "metadata": {
        "id": "d89328fa",
        "outputId": "09ba234f-0d7e-4028-e75c-97179d97654b"
      },
      "outputs": [
        {
          "name": "stdout",
          "output_type": "stream",
          "text": [
            "8\n"
          ]
        }
      ],
      "source": [
        "def add_numbers(x, y):\n",
        "    result = x + y\n",
        "    return result\n",
        "\n",
        "result = add_numbers(5, 3)\n",
        "print(result)  # Output: 8\n"
      ]
    },
    {
      "cell_type": "markdown",
      "id": "fc25b05f",
      "metadata": {
        "id": "fc25b05f"
      },
      "source": [
        "check out the execution of this code here: https://drive.google.com/file/d/1EXf44FKYoBOVqkOchojBT8WB2oG-9xAa/view?usp=sharing"
      ]
    },
    {
      "cell_type": "markdown",
      "id": "a06e355a",
      "metadata": {
        "id": "a06e355a"
      },
      "source": [
        "## <div class=\"alert alert-info\">Q 5. Create a list and demonstrate slicing."
      ]
    },
    {
      "cell_type": "code",
      "execution_count": null,
      "id": "f82b182f",
      "metadata": {
        "id": "f82b182f"
      },
      "outputs": [],
      "source": [
        "# Create a list of numbers\n",
        "numbers = [1, 2, 3, 4, 5, 6, 7, 8, 9, 10]\n",
        "\n",
        "# Demonstrate slicing\n"
      ]
    },
    {
      "cell_type": "code",
      "execution_count": null,
      "id": "e2503ad1",
      "metadata": {
        "id": "e2503ad1",
        "outputId": "a2edcfe0-7660-4cda-d892-b03b7f7a65e8"
      },
      "outputs": [
        {
          "name": "stdout",
          "output_type": "stream",
          "text": [
            "[3, 4, 5]\n",
            "[1, 2, 3, 4, 5]\n",
            "[6, 7, 8, 9, 10]\n",
            "[8, 9, 10]\n",
            "[1, 3, 5, 7, 9]\n"
          ]
        }
      ],
      "source": [
        "# Getting a subset of the list:\n",
        "\n",
        "subset = numbers[2:5]\n",
        "print(subset)\n",
        "# Output: [3, 4, 5]\n",
        "\n",
        "\n",
        "start_to_4 = numbers[:5]\n",
        "print(start_to_4)\n",
        "# Output: [1, 2, 3, 4, 5]\n",
        "\n",
        "#Getting elements from a certain index to the end:\n",
        "\n",
        "from_6_to_end = numbers[5:]\n",
        "print(from_6_to_end)\n",
        "# Output: [6, 7, 8, 9, 10]\n",
        "\n",
        "\n",
        "#Using negative indices (counting from the end of the list):\n",
        "\n",
        "last_three = numbers[-3:]\n",
        "print(last_three)\n",
        "# Output: [8, 9, 10]\n",
        "\n",
        "#Getting every nth element:\n",
        "\n",
        "every_second = numbers[::2]\n",
        "print(every_second)\n",
        "# Output: [1, 3, 5, 7, 9]"
      ]
    },
    {
      "cell_type": "markdown",
      "id": "f7be7933",
      "metadata": {
        "id": "f7be7933"
      },
      "source": [
        "## <div class=\"alert alert-warning\">Q 6. Describe the 'in' operator in Python."
      ]
    },
    {
      "cell_type": "markdown",
      "id": "5b89a605",
      "metadata": {
        "id": "5b89a605"
      },
      "source": [
        "<div class=\"alert alert-warning\">\n",
        "\n",
        "The `in` operator in Python is used to check if a value exists in a sequence, such as a string, list, tuple, or set. It returns True if the value is found, and False otherwise.\n",
        "\n",
        "The `in` operator is particularly useful in conditional statements, loops, and comprehensions, where you need to determine if a value is present in a collection before performing some action."
      ]
    },
    {
      "cell_type": "code",
      "execution_count": null,
      "id": "c153a7c7",
      "metadata": {
        "id": "c153a7c7",
        "outputId": "1eee4f6f-0744-4112-d83b-a6e867b8a425"
      },
      "outputs": [
        {
          "name": "stdout",
          "output_type": "stream",
          "text": [
            "True\n",
            "False\n"
          ]
        }
      ],
      "source": [
        "#Checking in a String:\n",
        "\n",
        "text = \"Hello, World!\"\n",
        "print('o' in text)  # Output: True\n",
        "print('x' in text)  # Output: False\n"
      ]
    },
    {
      "cell_type": "code",
      "execution_count": null,
      "id": "d0da1c05",
      "metadata": {
        "id": "d0da1c05",
        "outputId": "e3328f2a-34a7-4e4e-ccf1-fddf52644707"
      },
      "outputs": [
        {
          "name": "stdout",
          "output_type": "stream",
          "text": [
            "True\n",
            "False\n"
          ]
        }
      ],
      "source": [
        "#Checking in a List:\n",
        "\n",
        "numbers = [1, 2, 3, 4, 5]\n",
        "print(3 in numbers)  # Output: True\n",
        "print(6 in numbers)  # Output: False\n"
      ]
    },
    {
      "cell_type": "code",
      "execution_count": null,
      "id": "0c022e91",
      "metadata": {
        "id": "0c022e91",
        "outputId": "e0419697-2500-4758-f7bc-a0e3343da8ee"
      },
      "outputs": [
        {
          "name": "stdout",
          "output_type": "stream",
          "text": [
            "True\n",
            "False\n"
          ]
        }
      ],
      "source": [
        "#Checking in a Tuple:\n",
        "\n",
        "my_tuple = (1, 2, 3)\n",
        "print(2 in my_tuple)  # Output: True\n",
        "print(4 in my_tuple)  # Output: False\n"
      ]
    },
    {
      "cell_type": "code",
      "execution_count": null,
      "id": "6cf6b84a",
      "metadata": {
        "id": "6cf6b84a",
        "outputId": "8ca5c264-0ca1-4e3e-cfe5-8e23aa592ac9"
      },
      "outputs": [
        {
          "name": "stdout",
          "output_type": "stream",
          "text": [
            "True\n",
            "False\n"
          ]
        }
      ],
      "source": [
        "#Checking in a Set:\n",
        "\n",
        "my_set = {1, 2, 3, 4, 5}\n",
        "print(3 in my_set)  # Output: True\n",
        "print(6 in my_set)  # Output: False\n"
      ]
    },
    {
      "cell_type": "code",
      "execution_count": null,
      "id": "20acff67",
      "metadata": {
        "id": "20acff67",
        "outputId": "88b7c313-745e-47d5-f209-b9ae2d511fbf"
      },
      "outputs": [
        {
          "name": "stdout",
          "output_type": "stream",
          "text": [
            "True\n",
            "False\n"
          ]
        }
      ],
      "source": [
        "#Checking for Keys in a Dictionary:\n",
        "\n",
        "my_dict = {'a': 1, 'b': 2, 'c': 3}\n",
        "print('b' in my_dict)  # Output: True\n",
        "print('d' in my_dict)  # Output: False\n"
      ]
    },
    {
      "cell_type": "markdown",
      "id": "7eb6abff",
      "metadata": {
        "id": "7eb6abff"
      },
      "source": [
        "## <div class=\"alert alert-info\">Q 7. Explain the differences between an iterable and an iterator in Python. Provide examples.\n",
        "    \n",
        "<div class=\"alert alert-info\">\n",
        "    \n",
        "An `iterable` is an object that can be looped over (e.g., lists, strings, dictionaries).\n",
        "    \n",
        "An `iterator` is an object that represents a stream of data and can be iterated over one item at a time using the next() function.\n",
        "    \n",
        "All iterators are iterables, but not all iterables are iterators."
      ]
    },
    {
      "cell_type": "markdown",
      "id": "03e15887",
      "metadata": {
        "id": "03e15887"
      },
      "source": [
        "![](https://drive.google.com/uc?export=view&id=1nU0pLDtykLQCGaDB_lgGl_NjYbRim7r3)\n"
      ]
    },
    {
      "cell_type": "code",
      "execution_count": null,
      "id": "b83a4796",
      "metadata": {
        "id": "b83a4796",
        "outputId": "8f2fb140-da66-4348-99e6-cdc091a75456"
      },
      "outputs": [
        {
          "name": "stdout",
          "output_type": "stream",
          "text": [
            "1\n",
            "2\n"
          ]
        }
      ],
      "source": [
        "my_list = [1, 2, 3, 4]\n",
        "iter_obj = iter(my_list)  # Creating an iterator from a list\n",
        "print(next(iter_obj))  # Output: 1\n",
        "print(next(iter_obj))  # Output: 2\n"
      ]
    },
    {
      "cell_type": "markdown",
      "id": "09659cd2",
      "metadata": {
        "id": "09659cd2"
      },
      "source": [
        "## <div class=\"alert alert-warning\">Q8. What is a lambda function in Python, and why would you use one?\n",
        "<div class=\"alert alert-warning\">\n",
        "    \n",
        "A lambda function is a small anonymous function defined using the `lambda` keyword. They are often used for short, simple operations that can be defined in a single line of code. Lambda functions are particularly useful when you need to pass a simple function as an argument to other functions.\n",
        "Example:"
      ]
    },
    {
      "cell_type": "code",
      "execution_count": null,
      "id": "613c5dae",
      "metadata": {
        "id": "613c5dae",
        "outputId": "a6bdb327-4704-4341-aaee-e99115f6648f"
      },
      "outputs": [
        {
          "name": "stdout",
          "output_type": "stream",
          "text": [
            "25\n"
          ]
        }
      ],
      "source": [
        "square = lambda x: x ** 2\n",
        "print(square(5))  # Output: 25\n"
      ]
    },
    {
      "cell_type": "markdown",
      "id": "24f86e1d",
      "metadata": {
        "id": "24f86e1d"
      },
      "source": [
        "## <div class=\"alert alert-info\">Q9. What is the purpose of the __init__ method in Python classes, and how does it differ from __new__?\n",
        "    \n",
        "<div class=\"alert alert-info\">\n",
        "    \n",
        "The `__init__` method is used to initialize an instance of a class after it has been created. It's often used to set initial values for instance variables. The `__new__` method is responsible for creating a new instance of the class and is less commonly used.\n",
        "    \n",
        "`__init__` takes an existing instance and initializes it, while `__new__` creates a new instance.\n",
        "    \n",
        "Example:"
      ]
    },
    {
      "cell_type": "code",
      "execution_count": null,
      "id": "ad651eca",
      "metadata": {
        "id": "ad651eca",
        "outputId": "d1433516-735b-4791-8159-ce3d80c9f403"
      },
      "outputs": [
        {
          "name": "stdout",
          "output_type": "stream",
          "text": [
            "Creating a new instance\n",
            "Initializing an instance\n"
          ]
        }
      ],
      "source": [
        "class MyClass:\n",
        "    def __new__(cls):\n",
        "        print(\"Creating a new instance\")\n",
        "        return super(MyClass, cls).__new__(cls)\n",
        "\n",
        "    def __init__(self):\n",
        "        print(\"Initializing an instance\")\n",
        "\n",
        "obj = MyClass()\n"
      ]
    },
    {
      "cell_type": "markdown",
      "id": "cc5cacd0",
      "metadata": {
        "id": "cc5cacd0"
      },
      "source": [
        "## <div class=\"alert alert-warning\">Q 10.What are list comprehensions, and how do they work? Provide an example.\n",
        "<div class=\"alert alert-warning\">List comprehensions are a concise way to create lists in Python. They allow you to generate a new list by applying an expression to each item in an existing iterable.\n",
        "    \n",
        "Example:"
      ]
    },
    {
      "cell_type": "code",
      "execution_count": null,
      "id": "1148e023",
      "metadata": {
        "id": "1148e023",
        "outputId": "c4cf023a-e876-4c64-e237-0c951be5ce97"
      },
      "outputs": [
        {
          "name": "stdout",
          "output_type": "stream",
          "text": [
            "[1, 4, 9, 16, 25]\n"
          ]
        }
      ],
      "source": [
        "numbers = [1, 2, 3, 4, 5]\n",
        "squared_numbers = [x ** 2 for x in numbers]\n",
        "print(squared_numbers)  # Output: [1, 4, 9, 16, 25]\n"
      ]
    },
    {
      "cell_type": "markdown",
      "id": "9ce05e51",
      "metadata": {
        "id": "9ce05e51"
      },
      "source": [
        "check out the eexecution of the code: https://drive.google.com/file/d/1XrQBDkT9vHbKTViRPzdgiEQjqQBqwoB_/view?usp=sharing"
      ]
    },
    {
      "cell_type": "markdown",
      "id": "276069cb",
      "metadata": {
        "id": "276069cb"
      },
      "source": [
        "## <div class=\"alert alert-info\">Q 11. What is a Python dictionary comprehension, and how does it differ from a list comprehension? Provide an example.\n",
        "    \n",
        "<div class=\"alert alert-info\">A dictionary comprehension is similar to a list comprehension, but it creates a dictionary instead of a list. It allows you to generate key-value pairs by applying an expression to each item in an iterable.\n",
        "    \n",
        "Example:"
      ]
    },
    {
      "cell_type": "code",
      "execution_count": null,
      "id": "bae136c8",
      "metadata": {
        "id": "bae136c8",
        "outputId": "17091137-7b90-4fea-a707-bb5b9d6fb97f"
      },
      "outputs": [
        {
          "name": "stdout",
          "output_type": "stream",
          "text": [
            "{'Alice': 5, 'Bob': 3, 'Charlie': 7}\n"
          ]
        }
      ],
      "source": [
        "names = [\"Alice\", \"Bob\", \"Charlie\"]\n",
        "name_lengths = {name: len(name) for name in names}\n",
        "print(name_lengths)  # Output: {'Alice': 5, 'Bob': 3, 'Charlie': 7}\n"
      ]
    },
    {
      "cell_type": "markdown",
      "id": "130952c4",
      "metadata": {
        "id": "130952c4"
      },
      "source": [
        "check out the execution of the code: https://drive.google.com/file/d/1oEyp4X-Gd1nA0e30fwIJNpbomgUxFSsY/view?usp=drive_link"
      ]
    },
    {
      "cell_type": "markdown",
      "id": "6275d8a4",
      "metadata": {
        "id": "6275d8a4"
      },
      "source": [
        "## <div class=\"alert alert-warning\">Q 12. Explain the purpose of the super() function in Python and provide an example of its usage in a class.\n",
        "<div class=\"alert alert-warning\">\n",
        "    \n",
        "The `super()` function is used to call a method from a parent class in a subclass. It's commonly used in the `__init__` method of a subclass to ensure that both the parent and child class initialization code is executed.\n",
        "Example:"
      ]
    },
    {
      "cell_type": "code",
      "execution_count": null,
      "id": "b6a8b0d4",
      "metadata": {
        "id": "b6a8b0d4",
        "outputId": "2222ef77-595a-4198-b7e7-ccd244e9b765"
      },
      "outputs": [
        {
          "name": "stdout",
          "output_type": "stream",
          "text": [
            "Name: Alice, Age: 25\n"
          ]
        }
      ],
      "source": [
        "class Parent:\n",
        "    def __init__(self, name):\n",
        "        self.name = name\n",
        "\n",
        "class Child(Parent):\n",
        "    def __init__(self, name, age):\n",
        "        super().__init__(name)  # Call the parent class's __init__ method\n",
        "        self.age = age\n",
        "\n",
        "    def display_info(self):\n",
        "        print(f\"Name: {self.name}, Age: {self.age}\")\n",
        "\n",
        "child = Child(\"Alice\", 25)\n",
        "child.display_info()\n"
      ]
    },
    {
      "cell_type": "markdown",
      "id": "001441a7",
      "metadata": {
        "id": "001441a7"
      },
      "source": [
        "check out the execution of the code: https://drive.google.com/file/d/1MGwqc4ylRzzS-i1wml7kuI2Mi5_mgj5T/view?usp=drive_link"
      ]
    },
    {
      "cell_type": "markdown",
      "id": "5d6025ac",
      "metadata": {
        "id": "5d6025ac"
      },
      "source": [
        "## <div class=\"alert alert-info\">Q 13. What is the purpose of the if __name__ == '__main__': block in Python scripts, and why is it commonly used?\n",
        "    \n",
        "    \n",
        "<div class=\"alert alert-info\">\n",
        "    \n",
        "The if `__name__ == '__main__'`: block is used to check whether a Python script is being run as the main program or imported as a module. It's commonly used to separate code that should run only when the script is executed directly from code that can be reused when the script is imported as a module into other scripts.\n",
        "    \n",
        "Example:"
      ]
    },
    {
      "cell_type": "code",
      "execution_count": null,
      "id": "11133274",
      "metadata": {
        "id": "11133274",
        "outputId": "5ca5d21d-6eaa-403f-80d3-7a42d462a186"
      },
      "outputs": [
        {
          "name": "stdout",
          "output_type": "stream",
          "text": [
            "Running as the main program\n"
          ]
        }
      ],
      "source": [
        "def some_function():\n",
        "    print(\"Function in module\")\n",
        "\n",
        "if __name__ == '__main__':\n",
        "    print(\"Running as the main program\")\n"
      ]
    },
    {
      "cell_type": "markdown",
      "id": "df87c640",
      "metadata": {
        "id": "df87c640"
      },
      "source": [
        "## <div class=\"alert alert-warning\"> Q 14. What is a generator in Python, and why would you use it?"
      ]
    },
    {
      "cell_type": "markdown",
      "id": "76029bac",
      "metadata": {
        "id": "76029bac"
      },
      "source": [
        "<div class=\"alert alert-warning\">A generator in Python is a special type of function that generates values one at a time and doesn't store the entire sequence in memory. Instead, it generates values on the fly, allowing for efficient memory usage, especially for large or infinite sequences."
      ]
    },
    {
      "cell_type": "code",
      "execution_count": null,
      "id": "a5eb89cf",
      "metadata": {
        "id": "a5eb89cf",
        "outputId": "d31b281b-1e4a-4b42-c26a-753b32ac3f47"
      },
      "outputs": [
        {
          "name": "stdout",
          "output_type": "stream",
          "text": [
            "[0, 1, 2, 3, 4]\n"
          ]
        }
      ],
      "source": [
        "#Regular Function:\n",
        "\n",
        "def create_list(n):\n",
        "    result = []\n",
        "    for i in range(n):\n",
        "        result.append(i)\n",
        "    return result\n",
        "\n",
        "# Example usage:\n",
        "n = 5\n",
        "my_list = create_list(n)\n",
        "print(my_list)\n"
      ]
    },
    {
      "cell_type": "markdown",
      "id": "a5b8a968",
      "metadata": {
        "id": "a5b8a968"
      },
      "source": [
        "check out the execution of the code: https://drive.google.com/file/d/1xt3SxL7opzHNjJ3padT4oG500PVy1GAt/view?usp=drive_link"
      ]
    },
    {
      "cell_type": "code",
      "execution_count": null,
      "id": "e0364816",
      "metadata": {
        "id": "e0364816",
        "outputId": "0374a592-6fa1-41f7-9b3c-dd544e983839"
      },
      "outputs": [
        {
          "name": "stdout",
          "output_type": "stream",
          "text": [
            "0\n",
            "1\n",
            "2\n",
            "3\n",
            "4\n"
          ]
        }
      ],
      "source": [
        "#Generator Function:\n",
        "\n",
        "def generate_numbers(n):\n",
        "    for i in range(n):\n",
        "        yield i\n",
        "\n",
        "# Example usage:\n",
        "n = 5\n",
        "my_generator = generate_numbers(n)\n",
        "\n",
        "for num in my_generator:\n",
        "    print(num)\n"
      ]
    },
    {
      "cell_type": "markdown",
      "id": "858ab6e5",
      "metadata": {
        "id": "858ab6e5"
      },
      "source": [
        "check out the execution of the code :https://drive.google.com/file/d/1cFHjeCVjXr08JMLQfJHU1igB-UvBBPpB/view?usp=drive_link"
      ]
    },
    {
      "cell_type": "markdown",
      "id": "2a91f68d",
      "metadata": {
        "id": "2a91f68d"
      },
      "source": [
        "<div class=\"alert alert-warning\">\n",
        "    \n",
        "In the generator function, notice yield keyword instead of return. This indicates that this function is a generator. When you call a generator function, it doesn't execute the code immediately. Instead, it returns a generator object.\n",
        "\n",
        "You can then iterate over this generator object using a loop:"
      ]
    },
    {
      "cell_type": "code",
      "execution_count": null,
      "id": "c4f58ac8",
      "metadata": {
        "id": "c4f58ac8",
        "outputId": "f87550bd-2fc8-4726-d307-48f6b5fddae8"
      },
      "outputs": [
        {
          "name": "stdout",
          "output_type": "stream",
          "text": [
            "0\n",
            "1\n",
            "2\n",
            "3\n",
            "4\n"
          ]
        }
      ],
      "source": [
        "gen = generate_numbers(5)\n",
        "for num in gen:\n",
        "    print(num)\n"
      ]
    },
    {
      "cell_type": "markdown",
      "id": "566f6501",
      "metadata": {
        "id": "566f6501"
      },
      "source": [
        "<div class=\"alert alert-warning\"> Generators are beneficial in several scenarios:\n",
        "\n",
        "* Generators save memory by producing values one at a time, rather than generating the entire sequence in memory.\n",
        "\n",
        "* They are excellent for handling large datasets or sequences where storing all elements in memory would be impractical.\n",
        "\n",
        "* You can create generators that produce an infinite sequence of values, which would not be possible with regular lists.\n",
        "\n",
        "* In scenarios where you're processing data step-by-step (like reading from a file), generators can be more efficient as they don't require loading the entire dataset into memory.\n",
        "\n",
        "* Values are generated only when needed, which can lead to better performance in certain situations.\n"
      ]
    },
    {
      "cell_type": "markdown",
      "id": "8afdb012",
      "metadata": {
        "id": "8afdb012"
      },
      "source": [
        "## <div class=\"alert alert-info\">Q 15. Discuss the differences between `extend()` and `append()` methods for lists."
      ]
    },
    {
      "cell_type": "markdown",
      "id": "b0dbc201",
      "metadata": {
        "id": "b0dbc201"
      },
      "source": [
        "<div class=\"alert alert-info\">\n",
        "    \n",
        "The `extend()` and `append()` methods are both used to add elements to a list in Python, but they work in different ways:\n",
        "\n",
        "<alert-heading><h4>append():</h4>\n",
        "\n",
        "* The append() method is used to add a single element to the end of a list.\n",
        "* It takes one argument, which is the element you want to add.\n",
        "* If the element is a list, it will be added as a single element, not as individual elements.\n",
        "* It modifies the original list in place."
      ]
    },
    {
      "cell_type": "code",
      "execution_count": null,
      "id": "27ff5686",
      "metadata": {
        "id": "27ff5686",
        "outputId": "f7d04cc9-4445-486d-ba05-82026dcf8815"
      },
      "outputs": [
        {
          "name": "stdout",
          "output_type": "stream",
          "text": [
            "[1, 2, 3, 4]\n"
          ]
        }
      ],
      "source": [
        "my_list = [1, 2, 3]\n",
        "my_list.append(4)\n",
        "print(my_list)  # Output: [1, 2, 3, 4]\n"
      ]
    },
    {
      "cell_type": "markdown",
      "id": "8eb11b0b",
      "metadata": {
        "id": "8eb11b0b"
      },
      "source": [
        "<div class=\"alert alert-info\">\n",
        "    \n",
        "<alert-heading><h4>extend():</h4>\n",
        "    \n",
        "* The extend() method is used to add multiple elements to the end of a list.\n",
        "* It takes an iterable (like a list, tuple, or another iterable) as an argument and appends each element of that iterable to the list.\n",
        "* If the iterable contains multiple elements, they will be added individually to the list.\n",
        "* It modifies the original list in place."
      ]
    },
    {
      "cell_type": "code",
      "execution_count": null,
      "id": "fda28a42",
      "metadata": {
        "id": "fda28a42",
        "outputId": "48ef2c5c-c596-4124-9285-52f028b080a1"
      },
      "outputs": [
        {
          "name": "stdout",
          "output_type": "stream",
          "text": [
            "[1, 2, 3, 4, 5, 6]\n"
          ]
        }
      ],
      "source": [
        "my_list = [1, 2, 3]\n",
        "another_list = [4, 5, 6]\n",
        "my_list.extend(another_list)\n",
        "print(my_list)  # Output: [1, 2, 3, 4, 5, 6]\n"
      ]
    },
    {
      "cell_type": "markdown",
      "id": "ee154fd5",
      "metadata": {
        "id": "ee154fd5"
      },
      "source": [
        "<div class=\"alert alert-info\">If you try to use append() with an iterable like a list, it will add the entire list as a single element:"
      ]
    },
    {
      "cell_type": "code",
      "execution_count": null,
      "id": "492b90ea",
      "metadata": {
        "id": "492b90ea",
        "outputId": "c7a2195f-da4d-49e5-8d86-ad0e9964aa81"
      },
      "outputs": [
        {
          "name": "stdout",
          "output_type": "stream",
          "text": [
            "[1, 2, 3, [4, 5, 6]]\n"
          ]
        }
      ],
      "source": [
        "my_list = [1, 2, 3]\n",
        "another_list = [4, 5, 6]\n",
        "my_list.append(another_list)\n",
        "print(my_list)  # Output: [1, 2, 3, [4, 5, 6]]\n"
      ]
    },
    {
      "cell_type": "markdown",
      "id": "ed0f26e0",
      "metadata": {
        "id": "ed0f26e0"
      },
      "source": [
        "<div class=\"alert alert-info\">\n",
        "    \n",
        "In short, the main difference is that `append()` adds a single element to the end of a list, while `extend()` adds multiple elements from an iterable to the end of a list.\n",
        "    \n",
        "Use `extend()` when you want to add multiple elements, and `append()` when you want to add a single element or a list as a single element."
      ]
    },
    {
      "cell_type": "markdown",
      "id": "25b02455",
      "metadata": {
        "id": "25b02455"
      },
      "source": [
        "## <div class=\"alert alert-warning\">Q 16. How can you sort a dictionary by its values?"
      ]
    },
    {
      "cell_type": "markdown",
      "id": "658357f1",
      "metadata": {
        "id": "658357f1"
      },
      "source": [
        "<div class=\"alert alert-warning\">\n",
        "    \n",
        "You can sort a dictionary by its values using the `sorted()` function and a custom sorting key.\n",
        "    \n",
        "Here's an example:"
      ]
    },
    {
      "cell_type": "code",
      "execution_count": null,
      "id": "c0992004",
      "metadata": {
        "id": "c0992004",
        "outputId": "cb07caa3-36c0-4bf4-b554-23806bf8f1fb"
      },
      "outputs": [
        {
          "name": "stdout",
          "output_type": "stream",
          "text": [
            "{'d': 1, 'b': 2, 'a': 5, 'c': 8}\n"
          ]
        }
      ],
      "source": [
        "# Define a dictionary\n",
        "my_dict = {'a': 5, 'b': 2, 'c': 8, 'd': 1}\n",
        "\n",
        "# Sort the dictionary by values in ascending order\n",
        "sorted_dict = dict(sorted(my_dict.items(), key=lambda item: item[1]))\n",
        "\n",
        "# Print the sorted dictionary\n",
        "print(sorted_dict)\n"
      ]
    },
    {
      "cell_type": "markdown",
      "id": "d9cac597",
      "metadata": {
        "id": "d9cac597"
      },
      "source": [
        "<div class=\"alert alert-warning\">\n",
        "    \n",
        "if you want to sort in descending order, you can use the `reverse=True` argument in the `sorted()` function:"
      ]
    },
    {
      "cell_type": "code",
      "execution_count": null,
      "id": "445763cd",
      "metadata": {
        "id": "445763cd",
        "outputId": "e633d425-3fb0-46f4-f504-572088c3a8bb"
      },
      "outputs": [
        {
          "name": "stdout",
          "output_type": "stream",
          "text": [
            "{'c': 8, 'a': 5, 'b': 2, 'd': 1}\n"
          ]
        }
      ],
      "source": [
        "sorted_dict_descending = dict(sorted(my_dict.items(), key=lambda item: item[1], reverse=True))\n",
        "print(sorted_dict_descending)"
      ]
    },
    {
      "cell_type": "markdown",
      "id": "6b0923ea",
      "metadata": {
        "id": "6b0923ea"
      },
      "source": [
        "## <div class=\"alert alert-info\">Q 17. What is PEP 8?\n",
        "\n",
        "<div class=\"alert alert-info\">PEP 8 is the Python Enhancement Proposal that defines the style guide for writing Python code. It provides guidelines on naming conventions, indentation, and other coding standards to make code more readable and consistent."
      ]
    },
    {
      "cell_type": "markdown",
      "id": "4a7bf1d1",
      "metadata": {
        "id": "4a7bf1d1"
      },
      "source": [
        "## <div class=\"alert alert-warning\">Q 18. Explain the purpose of the \"if name == 'main':\" construct.\n",
        "\n",
        "<div class=\"alert alert-warning\">    \n",
        "    \n",
        "This construct allows you to check if a Python script is being run as the main program or if it's being imported as a module into another script. It's useful for separating reusable code from code meant for execution.\n",
        "    \n",
        "Example:"
      ]
    },
    {
      "cell_type": "code",
      "execution_count": null,
      "id": "2299b075",
      "metadata": {
        "id": "2299b075",
        "outputId": "eefc9267-cccd-4988-bc1a-e138da0c51b7"
      },
      "outputs": [
        {
          "name": "stdout",
          "output_type": "stream",
          "text": [
            "Running as the main program\n"
          ]
        }
      ],
      "source": [
        "# mymodule.py\n",
        "def some_function():\n",
        "    print(\"Function in module\")\n",
        "\n",
        "if __name__ == '__main__':\n",
        "    print(\"Running as the main program\")\n"
      ]
    },
    {
      "cell_type": "markdown",
      "id": "d875b8f0",
      "metadata": {
        "id": "d875b8f0"
      },
      "source": [
        "<div class=\"alert alert-warning\">\n",
        "    \n",
        "When you run `mymodule.py` , it prints \"Running as the main program.\" If you import it into another script, that line won't execute."
      ]
    },
    {
      "cell_type": "markdown",
      "id": "8c2e102e",
      "metadata": {
        "id": "8c2e102e"
      },
      "source": [
        "## <div class=\"alert alert-info\">Q 19. How does Python manage memory?\n",
        "\n",
        "<div class=\"alert alert-info\">Python uses a private heap space for memory management. It has a built-in garbage collector to automatically reclaim memory occupied by objects that are no longer in use."
      ]
    },
    {
      "cell_type": "markdown",
      "id": "4232b23b",
      "metadata": {
        "id": "4232b23b"
      },
      "source": [
        "## <div class=\"alert alert-warning\">Q 20. What is a decorator in Python?\n",
        "\n",
        "<div class=\"alert alert-warning\">    \n",
        "    \n",
        "A `decorator` is a design pattern that allows you to add functionality to functions or methods dynamically. They are often used to modify or enhance the behavior of functions without changing their code."
      ]
    },
    {
      "cell_type": "code",
      "execution_count": null,
      "id": "5965609e",
      "metadata": {
        "id": "5965609e",
        "outputId": "95aea73c-4056-4191-98c2-ba4724173c65"
      },
      "outputs": [
        {
          "name": "stdout",
          "output_type": "stream",
          "text": [
            "Something is happening before the function is called.\n",
            "Hello!\n",
            "Something is happening after the function is called.\n"
          ]
        }
      ],
      "source": [
        "# Define a decorator\n",
        "def my_decorator(func):\n",
        "    def wrapper():\n",
        "        print(\"Something is happening before the function is called.\")\n",
        "        func()\n",
        "        print(\"Something is happening after the function is called.\")\n",
        "    return wrapper\n",
        "\n",
        "# Apply the decorator to a function\n",
        "@my_decorator\n",
        "def say_hello():\n",
        "    print(\"Hello!\")\n",
        "\n",
        "say_hello()\n"
      ]
    },
    {
      "cell_type": "markdown",
      "id": "d4dbe5de",
      "metadata": {
        "id": "d4dbe5de"
      },
      "source": [
        "video link: https://drive.google.com/file/d/1ffZ81n28RyRd_Hrkm9UiQnYg0qvtPEpf/view?usp=drive_link"
      ]
    },
    {
      "cell_type": "markdown",
      "id": "070f9186",
      "metadata": {
        "id": "070f9186"
      },
      "source": [
        "## <div class=\"alert alert-info\">Q 21. Explain the purpose of the __init__ method in Python classes.\n",
        "\n",
        "<div class=\"alert alert-info\">\n",
        "    \n",
        "The `__init__` method is a constructor in Python classes. It is called when an object of the class is created and is used to initialize the object's attributes and perform any setup required."
      ]
    },
    {
      "cell_type": "code",
      "execution_count": null,
      "id": "dc92b38e",
      "metadata": {
        "id": "dc92b38e",
        "outputId": "6eae8de0-8e3e-41c1-b49f-a77e6ec8510e"
      },
      "outputs": [
        {
          "name": "stdout",
          "output_type": "stream",
          "text": [
            "Alice\n"
          ]
        }
      ],
      "source": [
        "class Person:\n",
        "    def __init__(self, name, age):\n",
        "        self.name = name\n",
        "        self.age = age\n",
        "\n",
        "person1 = Person(\"Alice\", 30)\n",
        "print(person1.name)  # Output: \"Alice\"\n"
      ]
    },
    {
      "cell_type": "markdown",
      "id": "d5f2bc73",
      "metadata": {
        "id": "d5f2bc73"
      },
      "source": [
        "check out the execution of the code : https://drive.google.com/file/d/1z11jUOSXROjSiwEAn9D-aExiB51Yjowb/view?usp=drive_link"
      ]
    },
    {
      "cell_type": "markdown",
      "id": "8541be9d",
      "metadata": {
        "id": "8541be9d"
      },
      "source": [
        "## <div class=\"alert alert-warning\">Q 22. How do you handle exceptions in Python?\n",
        "    \n",
        "<div class=\"alert alert-warning\">\n",
        "\n",
        "Exceptions are handled using try and except blocks. Code that might raise an exception is placed in the try block, and if an exception occurs, it's caught and handled in the except block."
      ]
    },
    {
      "cell_type": "code",
      "execution_count": null,
      "id": "7a0b6c22",
      "metadata": {
        "id": "7a0b6c22",
        "outputId": "164fcd56-0639-4997-fd9d-9922fe336ee9"
      },
      "outputs": [
        {
          "name": "stdout",
          "output_type": "stream",
          "text": [
            "Division by zero is not allowed.\n"
          ]
        }
      ],
      "source": [
        "try:\n",
        "    result = 10 / 0  # This will raise a ZeroDivisionError\n",
        "except ZeroDivisionError:\n",
        "    print(\"Division by zero is not allowed.\")\n"
      ]
    },
    {
      "cell_type": "markdown",
      "id": "37700059",
      "metadata": {
        "id": "37700059"
      },
      "source": [
        "check out the execution of the code : https://drive.google.com/file/d/1mC7poZXYX8NQOCpGwFjXs5a17LpSExI6/view?usp=drive_link"
      ]
    },
    {
      "cell_type": "markdown",
      "id": "75801a8d",
      "metadata": {
        "id": "75801a8d"
      },
      "source": [
        "## <div class=\"alert alert-info\">Q 23. Describe the concept of loops in Python. How do you use for and while loops to iterate over data or perform repetitive tasks? Provide examples of both types of loops."
      ]
    },
    {
      "cell_type": "markdown",
      "id": "3a0b22a0",
      "metadata": {
        "id": "3a0b22a0"
      },
      "source": [
        "![724f4bf39f88b2b88e4dada907a3b271-2.jpg](https://drive.google.com/uc?export=view&id=1YHPWVYhmc_cWnQ1GyWwjz8Put_ieDxRM)\n"
      ]
    },
    {
      "cell_type": "markdown",
      "id": "86449e37",
      "metadata": {
        "id": "86449e37"
      },
      "source": [
        "<div class=\"alert alert-info\">Loops in Python are control structures that allow you to execute a block of code repeatedly. They are used when you need to perform the same or similar tasks multiple times.\n",
        "\n",
        "<alert-heading><h4>\n",
        "    for Loop:</h4>\n",
        "A for loop is used to iterate over a sequence (such as a list, tuple, or range) or any other iterable object. It executes a block of code for each element in the sequence.\n",
        "\n",
        "Example of a for loop:"
      ]
    },
    {
      "cell_type": "code",
      "execution_count": null,
      "id": "da0e515d",
      "metadata": {
        "id": "da0e515d",
        "outputId": "519c6689-70d8-41c5-aa42-6e9be2c629f8"
      },
      "outputs": [
        {
          "name": "stdout",
          "output_type": "stream",
          "text": [
            "apple\n",
            "banana\n",
            "cherry\n"
          ]
        }
      ],
      "source": [
        "# Iterating over a list\n",
        "fruits = ['apple', 'banana', 'cherry']\n",
        "for fruit in fruits:\n",
        "    print(fruit)\n"
      ]
    },
    {
      "cell_type": "markdown",
      "id": "9755c72e",
      "metadata": {
        "id": "9755c72e"
      },
      "source": [
        "<div class=\"alert alert-info\">   \n",
        "<alert-heading><h4>    while Loop:</h4>\n",
        "A while loop is used to repeatedly execute a block of code as long as a specified condition is True. It's useful when you don't know in advance how many times the loop needs to run.\n",
        "\n",
        "Example of a while loop:"
      ]
    },
    {
      "cell_type": "code",
      "execution_count": null,
      "id": "74dcfe2b",
      "metadata": {
        "id": "74dcfe2b",
        "outputId": "693ef033-eb3d-4d69-d5fb-359723027cc9"
      },
      "outputs": [
        {
          "name": "stdout",
          "output_type": "stream",
          "text": [
            "1\n",
            "2\n",
            "3\n",
            "4\n",
            "5\n"
          ]
        }
      ],
      "source": [
        "# Using a while loop to count from 1 to 5\n",
        "count = 1\n",
        "while count <= 5:\n",
        "    print(count)\n",
        "    count += 1\n"
      ]
    },
    {
      "cell_type": "markdown",
      "id": "db84d6d4",
      "metadata": {
        "id": "db84d6d4"
      },
      "source": [
        "<div class=\"alert alert-info\">Key Differences:\n",
        "   \n",
        "||for loop|while loop|\n",
        "|:-|:-|:-|\n",
        "|Condition|Iterates over a sequence or an iterable.|Executes as long as a specified condition is True|\n",
        "|Control Variable|Automatically manages the iteration variable.| Requires you to manage the control variable explicitly.|\n",
        "|Use Cases|Use a for loop when you know the number of times you want to iterate or when you have a specific sequence to iterate over.|Use a while loop when you're uncertain about the number of iterations or when you need to iterate based on a condition.|\n",
        "|Exit Condition|Automatically exits when it has iterated over all elements in the sequence.|Requires a specific condition to be met for the loop to exit.|\n",
        "    \n",
        "Risk of `Infinite Loop`:\n",
        "\n",
        "Be careful with while loops as they can lead to an `infinite loop` if the exit condition is never met."
      ]
    },
    {
      "cell_type": "markdown",
      "id": "1fd6f53b",
      "metadata": {
        "id": "1fd6f53b"
      },
      "source": [
        "<div class=\"alert alert-info\">\n",
        "    \n",
        "Example of an `Infinite while Loop`:"
      ]
    },
    {
      "cell_type": "code",
      "execution_count": null,
      "id": "5769ac78",
      "metadata": {
        "id": "5769ac78"
      },
      "outputs": [],
      "source": [
        "# # This is an infinite loop, as the condition is always True\n",
        "# while True:\n",
        "#     print(\"This is an infinite loop!\")\n"
      ]
    },
    {
      "cell_type": "markdown",
      "id": "9e372df1",
      "metadata": {
        "id": "9e372df1"
      },
      "source": [
        "<div class=\"alert alert-info\">It's important to ensure that your while loop has an exit condition to prevent it from running indefinitely."
      ]
    },
    {
      "cell_type": "markdown",
      "id": "3d003f54",
      "metadata": {
        "id": "3d003f54"
      },
      "source": [
        "##  <div class=\"alert alert-warning\">Q 24. Explain the concept of string formatting in Python. How can you format strings to include variables or expressions? Provide examples of string formatting."
      ]
    },
    {
      "cell_type": "markdown",
      "id": "9a81d10c",
      "metadata": {
        "id": "9a81d10c"
      },
      "source": [
        "<div class=\"alert alert-warning\">\n",
        "    \n",
        "`String formatting` in Python allows you to create strings with placeholders that can be replaced by variables or expressions. It's a way to construct strings dynamically, incorporating variables or computed values.\n",
        "\n",
        "<alert-heading><h4>        \n",
        "Using format() Method:</h4>\n",
        "    \n",
        "The `format()` method is a common way to perform string formatting in Python. It allows you to insert variables or expressions into a string at specified positions.\n",
        "\n",
        "example:"
      ]
    },
    {
      "cell_type": "code",
      "execution_count": null,
      "id": "dda22cf4",
      "metadata": {
        "id": "dda22cf4",
        "outputId": "a95eff62-68b9-40df-c8ef-936c251d70c4"
      },
      "outputs": [
        {
          "name": "stdout",
          "output_type": "stream",
          "text": [
            "My name is Alice and I am 30 years old.\n"
          ]
        }
      ],
      "source": [
        "name = \"Alice\"\n",
        "age = 30\n",
        "\n",
        "formatted_string = \"My name is {} and I am {} years old.\".format(name, age)\n",
        "print(formatted_string)\n"
      ]
    },
    {
      "cell_type": "markdown",
      "id": "bb1d3e23",
      "metadata": {
        "id": "bb1d3e23"
      },
      "source": [
        "<div class=\"alert alert-warning\">\n",
        "<alert-heading><h4>        \n",
        "Using F-Strings (Formatted String Literals):</h4>\n",
        "    \n",
        "Introduced in Python 3.6, f-strings provide a more concise and readable way to format strings. They allow you to embed expressions directly into string literals.\n",
        "\n",
        "Example:"
      ]
    },
    {
      "cell_type": "code",
      "execution_count": null,
      "id": "faf1e9d1",
      "metadata": {
        "id": "faf1e9d1",
        "outputId": "83329318-877a-4b9d-b509-47dfbeb7ef59"
      },
      "outputs": [
        {
          "name": "stdout",
          "output_type": "stream",
          "text": [
            "My name is Bob and I am 25 years old.\n"
          ]
        }
      ],
      "source": [
        "name = \"Bob\"\n",
        "age = 25\n",
        "\n",
        "formatted_string = f\"My name is {name} and I am {age} years old.\"\n",
        "print(formatted_string)\n"
      ]
    },
    {
      "cell_type": "markdown",
      "id": "e0fe52df",
      "metadata": {
        "id": "e0fe52df"
      },
      "source": [
        "<div class=\"alert alert-warning\">\n",
        "<alert-heading><h4>Specifying Format:</h4>\n",
        "    \n",
        "You can also specify formatting options for variables within the placeholders. For example, to format a float to two decimal places:"
      ]
    },
    {
      "cell_type": "code",
      "execution_count": null,
      "id": "99790413",
      "metadata": {
        "id": "99790413",
        "outputId": "adba9a9c-b1f7-40ea-e20c-650b76bbc903"
      },
      "outputs": [
        {
          "name": "stdout",
          "output_type": "stream",
          "text": [
            "The price is 12.35 dollars.\n"
          ]
        }
      ],
      "source": [
        "price = 12.3456\n",
        "\n",
        "formatted_price = \"The price is {:.2f} dollars.\".format(price)\n",
        "print(formatted_price)\n"
      ]
    },
    {
      "cell_type": "markdown",
      "id": "1c25b778",
      "metadata": {
        "id": "1c25b778"
      },
      "source": [
        "<div class=\"alert alert-warning\">\n",
        "    \n",
        "<h4>    \n",
        "Old-Style Formatting (% Operator):</h4>\n",
        "    \n",
        "Python also supports the older-style string formatting using the % operator. However, f-strings and format() are more recommended for modern Python code."
      ]
    },
    {
      "cell_type": "code",
      "execution_count": null,
      "id": "4f71de5d",
      "metadata": {
        "id": "4f71de5d",
        "outputId": "d6513fb5-5b9e-4767-f70b-5e5362354a72"
      },
      "outputs": [
        {
          "name": "stdout",
          "output_type": "stream",
          "text": [
            "My name is Charlie and I am 28 years old.\n"
          ]
        }
      ],
      "source": [
        "name = \"Charlie\"\n",
        "age = 28\n",
        "\n",
        "formatted_string = \"My name is %s and I am %d years old.\" % (name, age)\n",
        "print(formatted_string)\n"
      ]
    },
    {
      "cell_type": "markdown",
      "id": "ca25603d",
      "metadata": {
        "id": "ca25603d"
      },
      "source": [
        "## <div class=\"alert alert-info\"> Q 25. What is a constructor?"
      ]
    },
    {
      "cell_type": "markdown",
      "id": "179b32d9",
      "metadata": {
        "id": "179b32d9"
      },
      "source": [
        "<div class=\"alert alert-info\">A constructor is a special method in a class that is automatically called when an object of that class is created. It's used to initialize the object's attributes or properties with some initial values.\n",
        "\n",
        "In Python, the constructor method is named `__init__`.\n",
        "    \n",
        "example:"
      ]
    },
    {
      "cell_type": "code",
      "execution_count": null,
      "id": "9b1da373",
      "metadata": {
        "id": "9b1da373",
        "outputId": "87bc977b-35b1-46c9-9d82-afe85da82463"
      },
      "outputs": [
        {
          "name": "stdout",
          "output_type": "stream",
          "text": [
            "John Doe\n",
            "30\n"
          ]
        }
      ],
      "source": [
        "class Person:\n",
        "    def __init__(self, name, age):\n",
        "        self.name = name\n",
        "        self.age = age\n",
        "\n",
        "# Creating an instance of the Person class\n",
        "john = Person(\"John Doe\", 30)\n",
        "\n",
        "print(john.name)  # Output: \"John Doe\"\n",
        "print(john.age)   # Output: 30\n"
      ]
    },
    {
      "cell_type": "markdown",
      "id": "4d52f9e3",
      "metadata": {
        "id": "4d52f9e3"
      },
      "source": [
        "check out the execution of the code :https://drive.google.com/file/d/1zlmB93rnthxHxW7QvrQSkEMwg3rCKeFj/view?usp=drive_link"
      ]
    },
    {
      "cell_type": "markdown",
      "id": "3f2dc270",
      "metadata": {
        "id": "3f2dc270"
      },
      "source": [
        "## <div class=\"alert alert-warning\"> Q 26. What is a destructor ?"
      ]
    },
    {
      "cell_type": "markdown",
      "id": "b4e104a0",
      "metadata": {
        "id": "b4e104a0"
      },
      "source": [
        "<div class=\"alert alert-warning\"><p>A destructor, in simple terms, is a special function in a programming language that is automatically called when an object is no longer needed or is about to be removed from memory. Its job is to clean up any resources or perform tasks that need to happen before the object is deleted.</p>\n",
        "    \n",
        "    \n",
        "In Python, the destructor method is called `__del__`. It's used to free up any resources that the object might be holding, like closing files or releasing network connections. However, it's important to note that in Python, the exact time when the destructor is called is determined by the Python interpreter and may not be immediate."
      ]
    },
    {
      "cell_type": "code",
      "execution_count": null,
      "id": "2cf5fd6f",
      "metadata": {
        "id": "2cf5fd6f",
        "outputId": "0a184dd8-9235-4707-bbc9-3144a0f84824"
      },
      "outputs": [
        {
          "name": "stdout",
          "output_type": "stream",
          "text": [
            "Destructor called. Object is about to be destroyed.\n"
          ]
        }
      ],
      "source": [
        "class MyClass:\n",
        "    def __del__(self):\n",
        "        print(\"Destructor called. Object is about to be destroyed.\")\n",
        "\n",
        "# Creating an instance of MyClass\n",
        "obj = MyClass()\n",
        "\n",
        "# Removing the reference to the object\n",
        "del obj  # This may or may not trigger the destructor\n"
      ]
    },
    {
      "cell_type": "markdown",
      "id": "b1e35727",
      "metadata": {
        "id": "b1e35727"
      },
      "source": [
        "check out the execution of the code : https://drive.google.com/file/d/1pshSHyhgRWBtWvX2-Ztndjt8MlSh3ymP/view?usp=drive_link"
      ]
    },
    {
      "cell_type": "markdown",
      "id": "c13598c0",
      "metadata": {
        "id": "c13598c0"
      },
      "source": [
        "## <div class=\"alert alert-info\"> Q 27. What is the purpose of the __init__ method in Python classes, and how does it differ from __new__?"
      ]
    },
    {
      "cell_type": "markdown",
      "id": "068e9945",
      "metadata": {
        "id": "068e9945"
      },
      "source": [
        "<div class=\"alert alert-info\">\n",
        "    \n",
        "The `__init__` method is used to initialize an instance of a class after it has been created. It's often used to set initial values for instance variables.\n",
        "    \n",
        "The `__new__` method is responsible for creating a new instance of the class and is less commonly used.\n",
        "    \n",
        "`__init__` takes an existing instance and initializes it, while `__new__` creates a new instance."
      ]
    },
    {
      "cell_type": "code",
      "execution_count": null,
      "id": "7379aefa",
      "metadata": {
        "id": "7379aefa",
        "outputId": "6013e3b5-e479-4476-abb9-f23a4f5a2db5"
      },
      "outputs": [
        {
          "name": "stdout",
          "output_type": "stream",
          "text": [
            "Creating a new instance\n",
            "Initializing an instance\n"
          ]
        }
      ],
      "source": [
        "class MyClass:\n",
        "    def __new__(cls):\n",
        "        print(\"Creating a new instance\")\n",
        "        return super(MyClass, cls).__new__(cls)\n",
        "\n",
        "    def __init__(self):\n",
        "        print(\"Initializing an instance\")\n",
        "\n",
        "obj = MyClass()\n"
      ]
    },
    {
      "cell_type": "markdown",
      "id": "9588bef8",
      "metadata": {
        "id": "9588bef8"
      },
      "source": [
        "## <div class=\"alert alert-warning\">Q 28.  Explain the concept of function parameters and return values."
      ]
    },
    {
      "cell_type": "markdown",
      "id": "26fa49ac",
      "metadata": {
        "id": "26fa49ac"
      },
      "source": [
        "![7c6acaabf60032c86abd6951c6cfc557.jpg](https://drive.google.com/uc?export=view&id=1foVobWljIqCEYElqVMvwHmELcGvwWd5K)\n"
      ]
    },
    {
      "cell_type": "markdown",
      "id": "c0dbd5ec",
      "metadata": {
        "id": "c0dbd5ec"
      },
      "source": [
        "<div class=\"alert alert-warning\">\n",
        "    \n",
        "<h4>Function Parameters:</h4>\n",
        "    \n",
        "* Function parameters are variables defined within the parentheses of a function's definition.\n",
        "* They represent values that a function expects to receive when it is called.\n",
        "* Parameters allow you to pass data into a function, which the function can then use for its computations.\n",
        "    \n",
        "    \n",
        "<h4>Return Values:</h4>\n",
        "    \n",
        "* A return value is the result or output that a function provides after executing its code.\n",
        "* Functions can use the return statement to send data back to the caller.\n",
        "* Return values allow functions to produce results that can be used or stored in variables."
      ]
    },
    {
      "cell_type": "markdown",
      "id": "b566ed8e",
      "metadata": {
        "id": "b566ed8e"
      },
      "source": [
        "## <div class=\"alert alert-info\">Q 29. Explain the scope of variables in Python."
      ]
    },
    {
      "cell_type": "markdown",
      "id": "bf9470a2",
      "metadata": {
        "id": "bf9470a2"
      },
      "source": [
        "<div class=\"alert alert-info\">In Python, variable scope defines where in the code a particular variable is accessible or visible.\n",
        "Python has three main variable scopes:\n",
        "    \n",
        "<h4>Global Scope:</h4>\n",
        "    \n",
        "* Variables defined outside of any function or block have a global scope.\n",
        "* They can be accessed and modified from anywhere in the code.\n",
        "    \n",
        "<h4>Local Scope:</h4>\n",
        "    \n",
        "* Variables defined within a function have a local scope.\n",
        "* They are only accessible within that specific function.\n",
        "* Local variables cannot be directly accessed from outside the function.\n",
        "    \n",
        "<h4>Enclosing (Nonlocal) Scope:</h4>\n",
        "    \n",
        "* In nested functions, variables in the enclosing (nonlocal) scope can be accessed, but they cannot be modified directly.\n",
        "* To modify nonlocal variables from within a nested function, you can use the nonlocal keyword."
      ]
    },
    {
      "cell_type": "markdown",
      "id": "5b005266",
      "metadata": {
        "id": "5b005266"
      },
      "source": [
        "## <div class=\"alert alert-warning\">Q 30. What is a default parameter in a Python function?"
      ]
    },
    {
      "cell_type": "markdown",
      "id": "e6728b20",
      "metadata": {
        "id": "e6728b20"
      },
      "source": [
        " <div class=\"alert alert-warning\">A default parameter in a Python function is a parameter that has a predefined value.\n",
        "If a caller doesn't provide a value for a parameter, the default value is used instead.\n",
        "Default parameters are specified in the function definition.\n",
        "    \n",
        "Example:"
      ]
    },
    {
      "cell_type": "code",
      "execution_count": null,
      "id": "1e192c6f",
      "metadata": {
        "id": "1e192c6f",
        "outputId": "1e95cc41-903c-4c32-dd14-cd765027b432"
      },
      "outputs": [
        {
          "name": "stdout",
          "output_type": "stream",
          "text": [
            "Hello, Guest!\n",
            "Hello, John!\n"
          ]
        }
      ],
      "source": [
        "def greet(name=\"Guest\"):\n",
        "    print(f\"Hello, {name}!\")\n",
        "\n",
        "greet()  # Outputs: \"Hello, Guest!\"\n",
        "greet(\"John\")  # Outputs: \"Hello, John!\"\n"
      ]
    },
    {
      "cell_type": "markdown",
      "id": "d6271da5",
      "metadata": {
        "id": "d6271da5"
      },
      "source": [
        "##  <div class=\"alert alert-info\">Q 31. Can a function have multiple return statements?"
      ]
    },
    {
      "cell_type": "markdown",
      "id": "3009dfb5",
      "metadata": {
        "id": "3009dfb5"
      },
      "source": [
        " <div class=\"alert alert-info\">Yes, a function can have multiple return statements.\n",
        "Once a return statement is executed, the function immediately exits and returns the specified value.\n",
        "Having multiple return statements allows a function to return different values based on different conditions.\n",
        "    \n",
        "Example:"
      ]
    },
    {
      "cell_type": "code",
      "execution_count": null,
      "id": "6a89699e",
      "metadata": {
        "id": "6a89699e",
        "outputId": "c9a268da-5b78-41bf-c9c2-f3fac87eac4c"
      },
      "outputs": [
        {
          "name": "stdout",
          "output_type": "stream",
          "text": [
            "For a score of 85, the grade is: B\n"
          ]
        }
      ],
      "source": [
        "def get_grade(score):\n",
        "    if score >= 90:\n",
        "        return \"A\"\n",
        "    elif score >= 80:\n",
        "        return \"B\"\n",
        "    elif score >= 70:\n",
        "        return \"C\"\n",
        "    else:\n",
        "        return \"F\"\n",
        "\n",
        "score = 85  # Example score\n",
        "grade = get_grade(score)\n",
        "print(f\"For a score of {score}, the grade is: {grade}\")\n"
      ]
    },
    {
      "cell_type": "markdown",
      "id": "5aaf4bc8",
      "metadata": {
        "id": "5aaf4bc8"
      },
      "source": [
        "![Friendly%20and%20Approachable.jpg](https://drive.google.com/uc?export=view&id=1ly94zKMRsiAQr3fFA61nMgCE8wJ3O2Se)\n"
      ]
    },
    {
      "cell_type": "markdown",
      "id": "c460de57",
      "metadata": {
        "id": "c460de57"
      },
      "source": [
        "you can find the medium level question bank here : https://drive.google.com/file/d/14LeCTIkbOgpEQP_B4jfOA64cGOvpmNSJ/view?usp=sharing\n",
        "\n",
        "You can find the advanced level question bank here: https://drive.google.com/file/d/1HX4jCwNnRKGsOMsRQ3APs3Z4SPpPk9vf/view?usp=drive_link"
      ]
    },
    {
      "cell_type": "markdown",
      "id": "d2bb1de4",
      "metadata": {
        "id": "d2bb1de4"
      },
      "source": []
    },
    {
      "cell_type": "markdown",
      "id": "6d7eddee",
      "metadata": {
        "id": "6d7eddee"
      },
      "source": []
    }
  ],
  "metadata": {
    "kernelspec": {
      "display_name": "Python 3 (ipykernel)",
      "language": "python",
      "name": "python3"
    },
    "language_info": {
      "codemirror_mode": {
        "name": "ipython",
        "version": 3
      },
      "file_extension": ".py",
      "mimetype": "text/x-python",
      "name": "python",
      "nbconvert_exporter": "python",
      "pygments_lexer": "ipython3",
      "version": "3.9.12"
    },
    "colab": {
      "provenance": [],
      "include_colab_link": true
    }
  },
  "nbformat": 4,
  "nbformat_minor": 5
}